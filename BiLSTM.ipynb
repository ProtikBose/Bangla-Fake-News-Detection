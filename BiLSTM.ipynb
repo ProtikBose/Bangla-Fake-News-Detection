{
  "nbformat": 4,
  "nbformat_minor": 0,
  "metadata": {
    "colab": {
      "name": "BiLSTM.ipynb",
      "provenance": []
    },
    "kernelspec": {
      "name": "python3",
      "display_name": "Python 3"
    },
    "accelerator": "GPU"
  },
  "cells": [
    {
      "cell_type": "code",
      "metadata": {
        "id": "HUwh7ffSB2Lv"
      },
      "source": [
        "import joblib"
      ],
      "execution_count": null,
      "outputs": []
    },
    {
      "cell_type": "code",
      "metadata": {
        "id": "I2K3A2QEB3S7"
      },
      "source": [
        "f='/content/drive/MyDrive/Machine Learning Algorithm/Bangla Fake News Detection/data_file1.joblib.bz2'\r\n",
        "file = joblib.load(f) "
      ],
      "execution_count": null,
      "outputs": []
    },
    {
      "cell_type": "code",
      "metadata": {
        "colab": {
          "base_uri": "https://localhost:8080/"
        },
        "id": "8eJ44CQHB5au",
        "outputId": "d29b2360-9c3a-4c4b-b775-cd0d9038a8b0"
      },
      "source": [
        "X_train = file['trainX']\r\n",
        "Y_train = file[\"trainY\"]\r\n",
        "\r\n",
        "X_train.shape"
      ],
      "execution_count": null,
      "outputs": [
        {
          "output_type": "execute_result",
          "data": {
            "text/plain": [
              "(78646, 2000)"
            ]
          },
          "metadata": {
            "tags": []
          },
          "execution_count": 3
        }
      ]
    },
    {
      "cell_type": "code",
      "metadata": {
        "id": "P0ktGpv7B9Ux"
      },
      "source": [
        "f='/content/drive/MyDrive/Machine Learning Algorithm/Bangla Fake News Detection/data_file2.joblib.bz2'\r\n",
        "file = joblib.load(f) "
      ],
      "execution_count": null,
      "outputs": []
    },
    {
      "cell_type": "code",
      "metadata": {
        "colab": {
          "base_uri": "https://localhost:8080/"
        },
        "id": "kRk3vYDbB_eA",
        "outputId": "ec619cf7-7c23-49be-b273-83f05a0a2925"
      },
      "source": [
        "X_test = file['testX']\r\n",
        "Y_test = file['testY']\r\n",
        "max_fatures = file[\"max_fatures\"]\r\n",
        "bias = file[\"bias\"]\r\n",
        "max_fatures"
      ],
      "execution_count": null,
      "outputs": [
        {
          "output_type": "execute_result",
          "data": {
            "text/plain": [
              "8000"
            ]
          },
          "metadata": {
            "tags": []
          },
          "execution_count": 5
        }
      ]
    },
    {
      "cell_type": "code",
      "metadata": {
        "id": "oaESHwfzCBwD"
      },
      "source": [
        "del file\r\n",
        "del f"
      ],
      "execution_count": null,
      "outputs": []
    },
    {
      "cell_type": "code",
      "metadata": {
        "colab": {
          "base_uri": "https://localhost:8080/"
        },
        "id": "X4Ix6Ok1CDjM",
        "outputId": "77518a8c-d3e9-4b3c-abcf-e22c5a57c5f6"
      },
      "source": [
        "from tensorflow.keras.layers import Embedding\r\n",
        "from tensorflow.keras.models import Sequential\r\n",
        "from tensorflow.keras.layers import LSTM\r\n",
        "from tensorflow.keras.layers import Dense\r\n",
        "from keras.layers import SpatialDropout1D\r\n",
        "from tensorflow.keras.layers import Dropout\r\n",
        "from tensorflow.keras.layers import Bidirectional\r\n",
        "from tensorflow.keras.callbacks import ModelCheckpoint\r\n",
        "# model\r\n",
        "embed_dim = 128\r\n",
        "lstm_out = 100\r\n",
        "\r\n",
        "model=Sequential()\r\n",
        "model.add(Embedding(max_fatures, embed_dim,input_length = X_train.shape[1]))\r\n",
        "model.add(Dropout(0.3))\r\n",
        "model.add(Bidirectional(LSTM(100)))\r\n",
        "model.add(Dropout(0.5))\r\n",
        "model.add(Dense(32, activation='sigmoid'))\r\n",
        "model.add(Dense(16, activation='sigmoid'))\r\n",
        "model.add(Dense(2,activation='softmax'))\r\n",
        "model.compile(loss = 'categorical_crossentropy', optimizer='adam',metrics = ['accuracy'])\r\n",
        "\r\n",
        "print(model.summary())"
      ],
      "execution_count": null,
      "outputs": [
        {
          "output_type": "stream",
          "text": [
            "Model: \"sequential\"\n",
            "_________________________________________________________________\n",
            "Layer (type)                 Output Shape              Param #   \n",
            "=================================================================\n",
            "embedding (Embedding)        (None, 2000, 128)         1024000   \n",
            "_________________________________________________________________\n",
            "dropout (Dropout)            (None, 2000, 128)         0         \n",
            "_________________________________________________________________\n",
            "bidirectional (Bidirectional (None, 200)               183200    \n",
            "_________________________________________________________________\n",
            "dropout_1 (Dropout)          (None, 200)               0         \n",
            "_________________________________________________________________\n",
            "dense (Dense)                (None, 32)                6432      \n",
            "_________________________________________________________________\n",
            "dense_1 (Dense)              (None, 16)                528       \n",
            "_________________________________________________________________\n",
            "dense_2 (Dense)              (None, 2)                 34        \n",
            "=================================================================\n",
            "Total params: 1,214,194\n",
            "Trainable params: 1,214,194\n",
            "Non-trainable params: 0\n",
            "_________________________________________________________________\n",
            "None\n"
          ],
          "name": "stdout"
        }
      ]
    },
    {
      "cell_type": "code",
      "metadata": {
        "colab": {
          "base_uri": "https://localhost:8080/"
        },
        "id": "dCz7N2FYE9pR",
        "outputId": "e3204fce-baed-4f25-af89-1bd7c19669e1"
      },
      "source": [
        "batch_size = 128\r\n",
        "# also adding weights\r\n",
        "class_weights = {1: 0.54 ,\r\n",
        "                0: 7.60 }\r\n",
        "checkpoint_path = \"/content/drive/MyDrive/Machine Learning Algorithm/Bangla Fake News Detection/trained_models/model.hdf5\"\r\n",
        "#checkpoint_dir = os.path.dirname(checkpoint_path)\r\n",
        "\r\n",
        "# Create a callback that saves the model\r\n",
        "cp_callback = ModelCheckpoint(checkpoint_path, monitor='val_accuracy',verbose=1, save_best_only=False, save_weights_only=False,mode='max')\r\n",
        "history = model.fit(X_train, Y_train, epochs = 10, batch_size=batch_size, verbose = 1, validation_data=(X_test, Y_test),class_weight=class_weights,callbacks=[cp_callback])"
      ],
      "execution_count": null,
      "outputs": [
        {
          "output_type": "stream",
          "text": [
            "Epoch 1/10\n",
            "615/615 [==============================] - 224s 350ms/step - loss: 1.2694 - accuracy: 0.5002 - val_loss: 2.5479 - val_accuracy: 0.0658\n",
            "\n",
            "Epoch 00001: saving model to /content/drive/MyDrive/Machine Learning Algorithm/Bangla Fake News Detection/trained_models/model.hdf5\n",
            "Epoch 2/10\n",
            "615/615 [==============================] - 218s 355ms/step - loss: 0.9511 - accuracy: 0.5086 - val_loss: 1.5010 - val_accuracy: 0.5494\n",
            "\n",
            "Epoch 00002: saving model to /content/drive/MyDrive/Machine Learning Algorithm/Bangla Fake News Detection/trained_models/model.hdf5\n",
            "Epoch 3/10\n",
            "615/615 [==============================] - 217s 354ms/step - loss: 0.5092 - accuracy: 0.8103 - val_loss: 0.9282 - val_accuracy: 0.7403\n",
            "\n",
            "Epoch 00003: saving model to /content/drive/MyDrive/Machine Learning Algorithm/Bangla Fake News Detection/trained_models/model.hdf5\n",
            "Epoch 4/10\n",
            "615/615 [==============================] - 218s 354ms/step - loss: 0.3166 - accuracy: 0.8956 - val_loss: 0.8642 - val_accuracy: 0.7750\n",
            "\n",
            "Epoch 00004: saving model to /content/drive/MyDrive/Machine Learning Algorithm/Bangla Fake News Detection/trained_models/model.hdf5\n",
            "Epoch 5/10\n",
            "615/615 [==============================] - 218s 354ms/step - loss: 0.2621 - accuracy: 0.9185 - val_loss: 0.7980 - val_accuracy: 0.8069\n",
            "\n",
            "Epoch 00005: saving model to /content/drive/MyDrive/Machine Learning Algorithm/Bangla Fake News Detection/trained_models/model.hdf5\n",
            "Epoch 6/10\n",
            "615/615 [==============================] - 218s 354ms/step - loss: 0.2168 - accuracy: 0.9339 - val_loss: 0.7947 - val_accuracy: 0.8063\n",
            "\n",
            "Epoch 00006: saving model to /content/drive/MyDrive/Machine Learning Algorithm/Bangla Fake News Detection/trained_models/model.hdf5\n",
            "Epoch 7/10\n",
            "615/615 [==============================] - 217s 353ms/step - loss: 0.1844 - accuracy: 0.9416 - val_loss: 0.7687 - val_accuracy: 0.8177\n",
            "\n",
            "Epoch 00007: saving model to /content/drive/MyDrive/Machine Learning Algorithm/Bangla Fake News Detection/trained_models/model.hdf5\n",
            "Epoch 8/10\n",
            "615/615 [==============================] - 215s 350ms/step - loss: 0.1575 - accuracy: 0.9484 - val_loss: 0.7185 - val_accuracy: 0.8242\n",
            "\n",
            "Epoch 00008: saving model to /content/drive/MyDrive/Machine Learning Algorithm/Bangla Fake News Detection/trained_models/model.hdf5\n",
            "Epoch 9/10\n",
            "615/615 [==============================] - 215s 350ms/step - loss: 0.1518 - accuracy: 0.9516 - val_loss: 0.9520 - val_accuracy: 0.7768\n",
            "\n",
            "Epoch 00009: saving model to /content/drive/MyDrive/Machine Learning Algorithm/Bangla Fake News Detection/trained_models/model.hdf5\n",
            "Epoch 10/10\n",
            "615/615 [==============================] - 216s 351ms/step - loss: 0.1405 - accuracy: 0.9555 - val_loss: 0.6162 - val_accuracy: 0.8625\n",
            "\n",
            "Epoch 00010: saving model to /content/drive/MyDrive/Machine Learning Algorithm/Bangla Fake News Detection/trained_models/model.hdf5\n"
          ],
          "name": "stdout"
        }
      ]
    },
    {
      "cell_type": "code",
      "metadata": {
        "id": "dO4zr54pZDV5"
      },
      "source": [
        "import matplotlib.pyplot as plt"
      ],
      "execution_count": null,
      "outputs": []
    },
    {
      "cell_type": "code",
      "metadata": {
        "colab": {
          "base_uri": "https://localhost:8080/",
          "height": 295
        },
        "id": "YJ_oLC9fZJGl",
        "outputId": "a3630c73-1d90-40cb-ce40-ee252fd30aad"
      },
      "source": [
        "# summarize history for accuracy\r\n",
        "\r\n",
        "plt.plot(history.history['accuracy'])\r\n",
        "plt.plot(history.history['val_accuracy'])\r\n",
        "plt.title('model accuracy')\r\n",
        "plt.ylabel('accuracy')\r\n",
        "plt.xlabel('epoch')\r\n",
        "plt.legend(['train', 'test'], loc='upper left')\r\n",
        "plt.show()"
      ],
      "execution_count": null,
      "outputs": [
        {
          "output_type": "display_data",
          "data": {
            "image/png": "[encoded data removed]",
            "text/plain": [
              "<Figure size 432x288 with 1 Axes>"
            ]
          },
          "metadata": {
            "tags": [],
            "needs_background": "light"
          }
        }
      ]
    },
    {
      "cell_type": "code",
      "metadata": {
        "colab": {
          "base_uri": "https://localhost:8080/",
          "height": 295
        },
        "id": "PGEc_xhWZa9d",
        "outputId": "611cdeae-db6d-47cf-f7a3-ce9d0e47b250"
      },
      "source": [
        "# summarize history for loss\r\n",
        "plt.plot(history.history['loss'])\r\n",
        "plt.plot(history.history['val_loss'])\r\n",
        "plt.title('model loss')\r\n",
        "plt.ylabel('loss')\r\n",
        "plt.xlabel('epoch')\r\n",
        "plt.legend(['train', 'test'], loc='upper left')\r\n",
        "plt.show()"
      ],
      "execution_count": null,
      "outputs": [
        {
          "output_type": "display_data",
          "data": {
            "image/png": "[encoded data removed]",
            "text/plain": [
              "<Figure size 432x288 with 1 Axes>"
            ]
          },
          "metadata": {
            "tags": [],
            "needs_background": "light"
          }
        }
      ]
    }
  ]
}